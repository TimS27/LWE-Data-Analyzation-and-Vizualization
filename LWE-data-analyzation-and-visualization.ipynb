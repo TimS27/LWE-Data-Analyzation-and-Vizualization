{
 "cells": [
  {
   "cell_type": "markdown",
   "metadata": {},
   "source": [
    "# Lightwave Explorer Data Analyzation & Vizualization\n",
    "This jupyter notebook contains a few helpful scripts for working with Lightwave Explorer simulation results."
   ]
  }
 ],
 "metadata": {
  "language_info": {
   "name": "python"
  }
 },
 "nbformat": 4,
 "nbformat_minor": 2
}
