{
 "cells": [
  {
   "cell_type": "markdown",
   "metadata": {},
   "source": [
    "# LightwaveExplorer Data Analyzation & Visualization\n",
    "This jupyter notebook gives a few data "
   ]
  },
  {
   "cell_type": "code",
   "execution_count": 24,
   "metadata": {},
   "outputs": [],
   "source": [
    "#Import Python modules\n",
    "import LightwaveExplorer as lwe\n",
    "import numpy as np\n",
    "#import pandas as pd\n",
    "#import seaborn as sns\n",
    "#import ipywidgets as widgets\n",
    "import matplotlib.pyplot as plt\n",
    "import scipy as sp\n",
    "import matplotlib\n",
    "from scipy.signal import hilbert, chirp\n",
    "from matplotlib_inline.backend_inline import set_matplotlib_formats\n",
    "set_matplotlib_formats('pdf', 'svg')\n",
    "from matplotlib import rcParams\n",
    "rcParams['font.family'] = 'Arial'\n",
    "rcParams['font.size'] = 14"
   ]
  },
  {
   "cell_type": "markdown",
   "metadata": {},
   "source": [
    "### Loading Simulation Data and Structure Analyzation"
   ]
  },
  {
   "cell_type": "code",
   "execution_count": 2,
   "metadata": {
    "scrolled": true
   },
   "outputs": [],
   "source": [
    "# Insert the path to your simulation results here\n",
    "#SiO2_1mm_xpol = lwe.load(\"LWE-results/fused-silica-1mm-50nJ-30THz-10000nmbeamwaist-xpol.zip\")\n",
    "#SiO2_2mm_xpol = lwe.load(\"LWE-results/fused-silica-2mm-50nJ-30THz-10000nmbeamwaist-xpol.zip\")\n",
    "#SiO2_1mm_circpol = lwe.load(\"LWE-results/fused-silica-1mm-50nJ-30THz-10000nmbeamwaist-circpol.zip\")\n",
    "#Vac_1mm_xpol = lwe.load(\"LWE-results/vacuum-1mm-50nJ-30THz-10000nmbeamwaist-xpol.zip\")\n",
    "#ZnSe_2mm = lwe.load(\"C:/Users/Admin/Seafile/LightWaveLab/LWE/Max-FROG/ZnSe-2000mm.zip\")\n",
    "#ZnSe_5mm = lwe.load(\"C:/Users/Admin/Seafile/LightWaveLab/LWE/Max-FROG/ZnSe-5000mm.zip\")\n",
    "#ZnSe_10mm = lwe.load(\"C:/Users/Admin/Seafile/LightWaveLab/LWE/Max-FROG/ZnSe-10000mm.zip\")\n",
    "#ZnSe_12mm = lwe.load(\"C:/Users/Admin/Seafile/LightWaveLab/LWE/Max-FROG/ZnSe-12000mm.zip\")\n",
    "#vac = lwe.load(\"C:/Users/Admin/Seafile/LightWaveLab/LWE/Max-FROG/vacuum.zip\")"
   ]
  },
  {
   "cell_type": "markdown",
   "metadata": {},
   "source": [
    "### Refractive Index"
   ]
  },
  {
   "cell_type": "code",
   "execution_count": null,
   "metadata": {},
   "outputs": [],
   "source": [
    "#first we'll make a wavelength grid to work with\n",
    "l = np.linspace(0.3,3,1024)\n",
    "\n",
    "#next we'll need Sellmeier coefficients, these are for barium fluoride, H. H. Li., J. Phys. Chem. Ref. Data 9, 161-289 (1980)\n",
    "a = lwe.getSellmeierFromRII(\"https://refractiveindex.info/database/data-nk/main/SiO2/Malitson.yml\")\n",
    "b = lwe.getSellmeierFromRII(\"https://refractiveindex.info/database/data-nk/main/BaF2/Malitson.yml\")\n",
    "\n",
    "#we can get the refractive index for the wavelengths we put in the grid by calling the sellmeier() function\n",
    "#from the lightwaveExplorer module, with the equationType set to 0.\n",
    "n = lwe.sellmeier(l, a, 0)\n",
    "n2 = lwe.sellmeier(l, b, 0)\n",
    "\n",
    "#let's make it so we can adjust the resonances of the oscillators and see how it affects the index\n",
    "\n",
    "fig,ax = plt.subplots(1,1, figsize=(10,8))\n",
    "ax.plot(l,np.real(n),label=\"SiO2\",color=\"blue\")\n",
    "ax.plot(l,np.real(n2), label = \"BaF2\", color = \"red\")\n",
    "ax.set_xlabel(\"Wavelength (\" + r'$\\mu$' + \"m)\")\n",
    "ax.set_ylabel(\"Refractive index n\")\n",
    "plt.title(\"Refractive index of different materials\")\n",
    "ax.legend()\n",
    "plt.savefig(\"graphs/refractive-index-SiO2-BaF2\")\n",
    "plt.show()"
   ]
  },
  {
   "cell_type": "markdown",
   "metadata": {},
   "source": [
    "### Create csv-File from LWE Results"
   ]
  },
  {
   "cell_type": "code",
   "execution_count": null,
   "metadata": {},
   "outputs": [],
   "source": [
    "arr = np.array([ZnSe_2mm.timeVector * 1e15, vac.Ext_x[:,257]])\n",
    "print(arr.shape)\n",
    "#print()\n",
    "\n",
    "np.savetxt('myarray.txt', arr)"
   ]
  },
  {
   "cell_type": "markdown",
   "metadata": {},
   "source": [
    "### On-Axis Electric Field (time domain)"
   ]
  },
  {
   "cell_type": "code",
   "execution_count": null,
   "metadata": {},
   "outputs": [],
   "source": [
    "x = SiO2_1mm_xpol.timeVector * 1e15  # convert to fs\n",
    "'''\n",
    "x2 = ZnSe_2mm.timeVector * 1e15\n",
    "x3 = (ZnSe_2mm.timeVector * 1e15)[200:700]\n",
    "y1 = SiO2_1mm_xpol.Ext_x[:,87]       # select on-axis column\n",
    "y2 = SiO2_2mm_xpol.Ext_x[:,87]\n",
    "y3 = SiO2_1mm_circpol.Ext_x[:,87]\n",
    "y4 = Vac_1mm_xpol.Ext_x[:,87]\n",
    "y5 = ZnSe_2mm.Ext_x[:,257]\n",
    "y6 = ZnSe_5mm.Ext_x[:,257]\n",
    "y7 = ZnSe_10mm.Ext_x[:,257]\n",
    "y8 = ZnSe_12mm.Ext_x[:,257]\n",
    "y9 = vac.Ext_x[:,257]\n",
    "y10 = ZnSe_12mm.Ext_x[200:700,257]\n",
    "'''\n",
    "y = SiO2_1mm_xpol.Ext_x[:,87]       # select on-axis column\n",
    "\n",
    "#b = np.where(y10<1e7,0,y10)\n",
    "#print(b)\n",
    "\n",
    "#print(x2.shape)\n",
    "#print(ZnSe_12mm.Ext_x)\n",
    "# FWHM's\n",
    "#print(\"FWHM-Vacuum: \" + str(lwe.fwhm(x2, y9)))\n",
    "#print(\"FWHM-2mm: \" + str(lwe.fwhm(x2, y5)))\n",
    "#print(\"FWHM-5mm: \" + str(lwe.fwhm(x2, y6)))\n",
    "#print(\"FWHM-10mm: \" + str(lwe.fwhm(x2, y7)))\n",
    "#print(\"FWHM-12mm: \" + str(lwe.fwhm(x2, y8)))\n",
    "#print(lwe.fwhm(x, y2))\n",
    "#print(lwe.fwhm(x, y4))\n",
    "\n",
    "plt.figure(figsize=(16, 8))\n",
    "plt.plot(x, y, 'blue', label='Vacuum') #, FWHM=4.39fs\n",
    "#plt.plot(x, y1, 'red', label='1mm SiO2') #, FWHM=7.56fs\n",
    "#plt.plot(x, y2, 'blue', label='2mm SiO2') #, FWHM=19.81fs\n",
    "plt.xlabel('Time [fs]')\n",
    "plt.ylabel('Ex [GV/m]')\n",
    "plt.title('On-Axis Electric Field in x-Polarization')\n",
    "plt.legend()\n",
    "#plt.savefig('graphs/Vacuum-on-axis-electric-field-test')\n",
    "plt.show()"
   ]
  },
  {
   "cell_type": "code",
   "execution_count": null,
   "metadata": {},
   "outputs": [],
   "source": [
    "phase = np.linspace(0, np.pi, num=5)\n",
    "print(np.angle(1j)/np.pi)"
   ]
  },
  {
   "cell_type": "markdown",
   "metadata": {},
   "source": [
    "### On-Axis Electric Field (time domain) + Pulse Envelope + FWHM + Phase + Instantaneous Frequency"
   ]
  },
  {
   "cell_type": "code",
   "execution_count": null,
   "metadata": {},
   "outputs": [],
   "source": [
    "input_pulse = lwe.load(\"LWE-results/exercise-input-pulse-100mJ-30THz-025fs-temporal-step.zip\")\n",
    "output_pulse = lwe.load(\"LWE-results/exercise-fused-silica-1mm-100mJ-30THz-025fs-temporal-step.zip\")\n",
    "\n",
    "x = output_pulse.timeVector * 1e15  # convert to fs\n",
    "y = output_pulse.Ext_x[:,255]\n",
    "#print(SiO2_1mm_xpol.Ext_x.shape)\n",
    "fs = len(x)\n",
    "\n",
    "# Compute the analytic signal, using the Hilbert transform. (see https://docs.scipy.org/doc/scipy/reference/generated/scipy.signal.hilbert.html)\n",
    "# Zeroes out the negative half of the frequency spectrum, which yields a complex signal (only one exponential left)\n",
    "analytic_signal = sp.signal.hilbert(y)\n",
    "amplitude_envelope = np.abs(analytic_signal)\n",
    "# np.angle returns angle of complex number in complex plane\n",
    "# np.unwrap unwraps array by transforming deltas to 2*pi complement values\n",
    "instantaneous_phase = np.unwrap(np.angle(analytic_signal))\n",
    "# phase blanking\n",
    "instantaneous_phase_cleaned = np.where(amplitude_envelope < 0.1 * np.max(amplitude_envelope), 0, instantaneous_phase)\n",
    "instantaneous_phase_cleaned[instantaneous_phase_cleaned == 0] = np.nan\n",
    "# np.diff calculates the n-th discrete difference along the given axis: out[i] = a[i+1] - a[i]\n",
    "# inst freq is derivative of phase, therefore np.diff can be used as derivative\n",
    "instantaneous_frequency = (np.diff(instantaneous_phase_cleaned) / (2.0*np.pi)  * 1e15)\n",
    "#instantaneous_frequency_cleaned = np.where(amplitude_envelope[1:] < 0.1 * np.max(amplitude_envelope), 0, instantaneous_frequency) # \n",
    "#instantaneous_frequency_cleaned[instantaneous_frequency_cleaned == 0] = np.nan\n",
    "\n",
    "print(\"FWHM-Vacuum: \" + str(lwe.fwhm(x, amplitude_envelope)))\n",
    "\n",
    "#Plot with two y-axis (for E-field, instantaneous frequency)\n",
    "fig, ax1 = plt.subplots()\n",
    "\n",
    "ax2 = ax1.twinx()\n",
    "ax1.plot(x, analytic_signal, 'red')\n",
    "ax2.plot(x[:(len(x)-1)], instantaneous_frequency, 'blue')\n",
    "\n",
    "ax1.set_xlabel('Time [fs]')\n",
    "ax1.set_ylabel('signal', color='r')\n",
    "ax2.set_ylabel('instantaneous frequency', color='b')\n",
    "\n",
    "plt.show()"
   ]
  },
  {
   "cell_type": "markdown",
   "metadata": {},
   "source": [
    "### On-Axis Electric Field (frequency domain) + FWHM"
   ]
  },
  {
   "cell_type": "code",
   "execution_count": null,
   "metadata": {},
   "outputs": [],
   "source": [
    "x = SiO2_1mm_xpol.frequencyVectorSpectrum / 1e12 # convert to THz\n",
    "y1 = SiO2_1mm_xpol.spectrumTotal\n",
    "y2 = Vac_1mm_xpol.spectrumTotal\n",
    "#data = lwe.load(\"C:\\Users\\Admin\\Seafile\\LightWaveLab\\LWE\\Max-FROG\")\n",
    "#data2 = lwe.load(\"LWE-results/vacuum-1mm-50nJ-30THz-10000nmbeamwaist-circpol.zip\")\n",
    "#x = data.frequencyVectorSpectrum /1e12\n",
    "#y1 = data.spectrum_x\n",
    "#y2 = data2.spectrum_x\n",
    "#y2 = SiO2_2mm_xpol.Ext_x[:,87]\n",
    "#y3 = SiO2_1mm_circpol.Ext_x[:,87]\n",
    "#y4 = Vac_1mm_xpol.Ext_x[:,87]\n",
    "#print(y1.shape)\n",
    "\n",
    "print(\"FWHM-1mm-SiO2: \" + str(lwe.fwhm(x, y1)))\n",
    "\n",
    "fig, ax1 = plt.subplots(figsize=(10,8))\n",
    "\n",
    "# Linear\n",
    "color1 = 'tab:red'\n",
    "ax1.set_xlabel('Frequency [Thz]')\n",
    "ax1.set_ylabel('Sx linear [J/THz]', color=color1)\n",
    "ax1.plot(x, y1, color=color1, label='1mm Fused Silica linear')\n",
    "#ax1.plot(x, amplitude_envelope, color='orange', label='1mm Fused Silica linear envelope')\n",
    "ax1.tick_params(axis='y', labelcolor=color1)\n",
    "ax1.set_xlim((0,1000))\n",
    "plt.legend(loc=1)\n",
    "ax2 = ax1.twinx()  # instantiate a second axes that shares the same x-axis\n",
    "\n",
    "# Log\n",
    "color2 = 'tab:blue'\n",
    "#color3 = 'tab:lightblue'\n",
    "ax2.set_ylabel('Sx log [J/THz]', color=color2)\n",
    "ax2.set_yscale('log')\n",
    "ax2.plot(x, y, color='#0406b0', label='1mm Fused Silica log')\n",
    "ax2.plot(x, y2, color='#42bff5', label='1mm Vacuum log')\n",
    "ax2.tick_params(axis='y', labelcolor=color2)\n",
    "fig.legend(loc=\"upper right\", bbox_to_anchor=(1,1), bbox_transform=ax1.transAxes)\n",
    "\n",
    "#plt.legend()#plt.legend(ax1.plot(x, y1, color=color1, label='1mm Fused Silica linear')+ax2.plot(x, y1, color='#0406b0', label='1mm Fused Silica log'), [ax1.plot(x, y1, color=color1, label='1mm Fused Silica linear').get_label(), ax2.plot(x, y1, color='#0406b0', label='1mm Fused Silica log').get_label()])\n",
    "#fig.tight_layout()  # otherwise the right y-label is slightly clipped\n",
    "plt.title('Energy Spectrum in x-Polarization after 1mm of Fused Silica')\n",
    "#plt.savefig('graphs/energy-spectrum-after-1mm-fused-silica')\n",
    "plt.show()"
   ]
  },
  {
   "cell_type": "markdown",
   "metadata": {},
   "source": [
    "### Fused Silica Exercise\n",
    "\n",
    "A 10-fs pulse at a central wavelength of 1 μm and a chirp-free Gaussian temporal profile (linear polarization, 100 kHz laser repetition rate, 10 W average power) is focused on a 1 mm thick fused silica plate, such that the smallest focus is in the center of the plate and has a diameter of 0.6 mm.\n",
    "\n",
    "For a 10-fs pulse at a central wavelength of 1 μm and a chirp-free Gaussian temporal profile , the pulse bandwidth can be calculated via the time bandwidth product (0.441): 147 nm equaling 44.3 THz\n",
    "\n",
    "Pulse energy = average power / rep rate = 10 W / 100 kHz = 0.0001 J = 100 mJ\n",
    "\n",
    "- Is the linear polarization direction with respect to the crystal material orientation within the plate relevant in this scenario (i.e. does it change the result more than the same change in the polarization direction of the output)? Why, why not? How about circular polarization? Why, why not?\n",
    "\n",
    "Fused Silica is optically isotropic, which means it has no birefringence and has the same refractive index for all polarizations.\n",
    "\n",
    "- Pulse duration before and after plate:\n",
    "FWHM-Vacuum: approx. 12 fs\n",
    "FWHM-1mm-SiO2: approx. 34 fs"
   ]
  },
  {
   "cell_type": "markdown",
   "metadata": {},
   "source": [
    "### Check for Convergence\n",
    "Without absorption effects simulated, the input- and output energies should not deviate more than expected from numerical effects (>~0.2 %)"
   ]
  },
  {
   "cell_type": "code",
   "execution_count": null,
   "metadata": {},
   "outputs": [],
   "source": [
    "# Check for convergence through input- and output energy comparison\n",
    "input_pulse = lwe.load(\"LWE-results/exercise-input-pulse-100mJ-30THz-025fs-temporal-step.zip\")\n",
    "output_pulse = lwe.load(\"LWE-results/exercise-fused-silica-1mm-100mJ-30THz-025fs-temporal-step.zip\")\n",
    "\n",
    "x = input_pulse.timeVector * 1e15  # convert to fs\n",
    "y1 = input_pulse.Ext_x[:,255]\n",
    "y2 = output_pulse.Ext_x[:,255]\n",
    "\n",
    "# Compute the analytic signal, using the Hilbert transform. (see https://docs.scipy.org/doc/scipy/reference/generated/scipy.signal.hilbert.html)\n",
    "# Zeroes out the negative half of the frequency spectrum, which yields a complex signal (only one exponential left)\n",
    "analytic_signal1 = sp.signal.hilbert(y1)\n",
    "amplitude_envelope1 = np.abs(analytic_signal1)\n",
    "analytic_signal2 = sp.signal.hilbert(y2)\n",
    "amplitude_envelope2 = np.abs(analytic_signal2)\n",
    "\n",
    "# Calculate area under pulse envelope using Trapezoid Rule\n",
    "def integrate(x, y):\n",
    "    area = np.trapz(y=y, x=x)\n",
    "    return area\n",
    "\n",
    "'''\n",
    "def integrate(x, y):\n",
    "   sm = 0\n",
    "   for i in range(1, len(x)):\n",
    "       h = x[i] - x[i-1]\n",
    "       sm += h * (y[i-1] + y[i]) / 2\n",
    "   return sm\n",
    "'''\n",
    "\n",
    "print(integrate(x, amplitude_envelope1))\n",
    "print(integrate(x, amplitude_envelope2))\n",
    "print('Ratio of input- and output pulse energy: ', (integrate(x, amplitude_envelope1) / integrate(x, amplitude_envelope2)) * 100, ' %')"
   ]
  },
  {
   "cell_type": "markdown",
   "metadata": {},
   "source": [
    "- How does the pulse duration change?<br>\n",
    "FWHM-Vacuum: 11.964595036807793<br>\n",
    "FWHM-1mm-SiO2: 34.39025795057569\n",
    "\n",
    "- What is the resulting bandwidth (FWHM spectral intensity)?<br>\n",
    "FWHM-Vacuum: 52.19528498629609 fs<br>\n",
    "FWHM-1mm-SiO2: 225.2253231264810 fs\n",
    "\n",
    "- What is the main physical principle behind the change and is it a linear or nonlinear phenomenon?<br>\n",
    "Self-phase-modulation based on the second order electrooptical effect / Kerr effect, which is a nonlinear effect based on the E^2 or the intensit"
   ]
  },
  {
   "cell_type": "markdown",
   "metadata": {},
   "source": [
    "### Pulse before and after SiO2 plate (time domain)"
   ]
  },
  {
   "cell_type": "code",
   "execution_count": null,
   "metadata": {},
   "outputs": [],
   "source": [
    "input_pulse = lwe.load(\"LWE-results/exercise-input-pulse-100mJ-30THz-025fs-temporal-step.zip\")\n",
    "output_pulse = lwe.load(\"LWE-results/exercise-fused-silica-1mm-100mJ-30THz-025fs-temporal-step.zip\")\n",
    "\n",
    "x = input_pulse.timeVector * 1e15  # convert to fs\n",
    "y1 = input_pulse.Ext_x[:,255]\n",
    "y2 = output_pulse.Ext_x[:,255]\n",
    "\n",
    "# Compute the analytic signal, using the Hilbert transform. (see https://docs.scipy.org/doc/scipy/reference/generated/scipy.signal.hilbert.html)\n",
    "# Zeroes out the negative half of the frequency spectrum, which yields a complex signal (only one exponential left)\n",
    "analytic_signal1 = sp.signal.hilbert(y1)\n",
    "amplitude_envelope1 = np.abs(analytic_signal1)\n",
    "analytic_signal2 = sp.signal.hilbert(y2)\n",
    "amplitude_envelope2 = np.abs(analytic_signal2)\n",
    "'''\n",
    "# np.angle returns angle of complex number in complex plane\n",
    "# np.unwrap unwraps array by transforming deltas to 2*pi complement values\n",
    "instantaneous_phase = np.unwrap(np.angle(analytic_signal1))\n",
    "# phase blanking\n",
    "instantaneous_phase_cleaned = np.where(amplitude_envelope < 0.1 * np.max(amplitude_envelope), 0, instantaneous_phase)\n",
    "instantaneous_phase_cleaned[instantaneous_phase_cleaned == 0] = np.nan\n",
    "# np.diff calculates the n-th discrete difference along the given axis: out[i] = a[i+1] - a[i]\n",
    "# inst freq is derivative of phase, therefore np.diff can be used as derivative\n",
    "instantaneous_frequency = (np.diff(instantaneous_phase_cleaned) / (2.0*np.pi)  * 1e15)\n",
    "#instantaneous_frequency_cleaned = np.where(amplitude_envelope[1:] < 0.1 * np.max(amplitude_envelope), 0, instantaneous_frequency) # \n",
    "#instantaneous_frequency_cleaned[instantaneous_frequency_cleaned == 0] = np.nan\n",
    "'''\n",
    "\n",
    "print(\"FWHM-Vacuum: \" + str(lwe.fwhm(x, amplitude_envelope1)))\n",
    "print(\"FWHM-1mm-SiO2: \" + str(lwe.fwhm(x, amplitude_envelope2)))\n",
    "\n",
    "#Plot with two y-axis (for E-field, instantaneous frequency)\n",
    "fig, ax1 = plt.subplots()\n",
    "\n",
    "#ax2 = ax1.twinx()\n",
    "ax1.plot(x, y1, 'red', label='input pulse')\n",
    "ax1.plot(x, y2, 'green', label = '1mm-SiO2')\n",
    "#ax2.plot(x[:(len(x)-1)], instantaneous_frequency, 'blue')\n",
    "\n",
    "ax1.set_xlabel('Time [fs]')\n",
    "ax1.set_ylabel('signal') # color='r'\n",
    "fig.legend(loc=\"upper right\", bbox_to_anchor=(1,1), bbox_transform=ax1.transAxes)\n",
    "#ax2.set_ylabel('instantaneous frequency', color='b')\n",
    "\n",
    "plt.show()\n",
    "\n",
    "#print(y.shape)\n",
    "\n",
    "#sp.integrate.quad"
   ]
  },
  {
   "cell_type": "markdown",
   "metadata": {},
   "source": [
    "### Pulse before and after SiO2 plate (frequency domain)"
   ]
  },
  {
   "cell_type": "code",
   "execution_count": null,
   "metadata": {},
   "outputs": [],
   "source": [
    "input_pulse = lwe.load(\"LWE-results/exercise-input-pulse-100mJ-30THz-025fs-temporal-step.zip\")\n",
    "output_pulse = lwe.load(\"LWE-results/exercise-fused-silica-1mm-100mJ-30THz-025fs-temporal-step.zip\")\n",
    "\n",
    "x = input_pulse.frequencyVectorSpectrum / 1e12  # convert to fs\n",
    "y1 = input_pulse.spectrumTotal\n",
    "y2 = output_pulse.spectrumTotal\n",
    "\n",
    "print(\"FWHM-Vacuum: \" + str(lwe.fwhm(x, y1)))\n",
    "print(\"FWHM-1mm-SiO2: \" + str(lwe.fwhm(x, y2)))\n",
    "\n",
    "fig, ax1 = plt.subplots(figsize=(10,8))\n",
    "\n",
    "# Linear\n",
    "color1 = 'tab:red'\n",
    "ax1.set_xlabel('Frequency [Thz]')\n",
    "ax1.set_ylabel('Sx linear [J/THz]', color=color1)\n",
    "ax1.plot(x, y1, color=color1, label='1mm Fused Silica linear')\n",
    "#ax1.plot(x, amplitude_envelope, color='orange', label='1mm Fused Silica linear envelope')\n",
    "ax1.tick_params(axis='y', labelcolor=color1)\n",
    "#ax1.set_xlim((0,1000))\n",
    "plt.legend(loc=1)\n",
    "ax2 = ax1.twinx()  # instantiate a second axes that shares the same x-axis\n",
    "\n",
    "# Log\n",
    "color2 = 'tab:blue'\n",
    "#color3 = 'tab:lightblue'\n",
    "ax2.set_ylabel('Sx log [J/THz]', color=color2)\n",
    "ax2.set_yscale('log')\n",
    "ax2.plot(x, y1, color='#0406b0', label='1mm Fused Silica log')\n",
    "ax2.plot(x, y2, color='#42bff5', label='1mm Vacuum log')\n",
    "ax2.tick_params(axis='y', labelcolor=color2)\n",
    "fig.legend(loc=\"upper right\", bbox_to_anchor=(1,1), bbox_transform=ax1.transAxes)\n",
    "\n",
    "#plt.legend()#plt.legend(ax1.plot(x, y1, color=color1, label='1mm Fused Silica linear')+ax2.plot(x, y1, color='#0406b0', label='1mm Fused Silica log'), [ax1.plot(x, y1, color=color1, label='1mm Fused Silica linear').get_label(), ax2.plot(x, y1, color='#0406b0', label='1mm Fused Silica log').get_label()])\n",
    "#fig.tight_layout()  # otherwise the right y-label is slightly clipped\n",
    "plt.title('Energy Spectrum in x-Polarization after 1mm of Fused Silica')\n",
    "#plt.savefig('graphs/energy-spectrum-after-1mm-fused-silica')\n",
    "plt.show()"
   ]
  },
  {
   "cell_type": "markdown",
   "metadata": {},
   "source": [
    "### Evolution of spectrum and pulse duration with pulse energy"
   ]
  },
  {
   "cell_type": "markdown",
   "metadata": {},
   "source": [
    "Load batch simulation results:"
   ]
  },
  {
   "cell_type": "code",
   "execution_count": 77,
   "metadata": {},
   "outputs": [],
   "source": [
    "SiO2_batch_pulse_energy = lwe.load(\"LWE-results/exercise-fused-silica-1mm-100mJ-30THz-025fs-temporal-step-batch-pulse-energy-50mcJto200mcJ-11steps.zip\")"
   ]
  },
  {
   "cell_type": "markdown",
   "metadata": {},
   "source": [
    "Plot spectral evolution:"
   ]
  },
  {
   "cell_type": "code",
   "execution_count": null,
   "metadata": {},
   "outputs": [],
   "source": [
    "#print(SiO2_batch_thickness.Ext_x.shape)\n",
    "x = SiO2_batch_pulse_energy.frequencyVectorSpectrum / 1e12 # convert to Thz\n",
    "#print(x.shape)\n",
    "#x = SiO2_1mm_xpol.spaceVector\n",
    "y = SiO2_batch_pulse_energy.batchVector * 1000 # convert to microns\n",
    "print(y)\n",
    "print(y.shape)\n",
    "#print(x)\n",
    "z = SiO2_batch_pulse_energy.spectrumTotal\n",
    "z_norma = lwe.norma(z)\n",
    "print(z.shape)\n",
    "#z = np.abs(fft2(SiO2_1mm_xpol.Ext_x))\n",
    "#z_norma = lwe.norma(z)\n",
    "#z_log = 10 * np.log10(z / np.max(z))\n",
    "#y2 = SiO2_2mm_xpol.Ext_x[:,87]\n",
    "#y3 = SiO2_1mm_circpol.Ext_x[:,87]\n",
    "#y4 = Vac_1mm_xpol.Ext_x[:,87]\n",
    "#print(z.shape)\n",
    "X,Y = np.meshgrid(x,y)\n",
    "Z=z_norma\n",
    "\n",
    "plt.figure(figsize=(10,5))\n",
    "plt.pcolormesh(Y,X,Z, shading=\"nearest\", cmap='magma', norm=matplotlib.colors.LogNorm())\n",
    "plt.xlabel(\"Pulse Energy [\" + r'$\\mu$' + \"m]\")\n",
    "plt.ylabel(\"Frequency [THz]\")\n",
    "#plt.ylim((0,00))\n",
    "#plt.xlim((0,100))\n",
    "plt.title('Spectral Evolution with Pulse Energy in Fused Silica')\n",
    "plt.colorbar()\n",
    "plt.savefig(\"graphs/exercise-spectral-evolution-with-pulse-energy-in-fused-silica\")\n",
    "plt.close()"
   ]
  },
  {
   "cell_type": "markdown",
   "metadata": {},
   "source": [
    "Plot pulse envelope evolution:"
   ]
  },
  {
   "cell_type": "code",
   "execution_count": 80,
   "metadata": {},
   "outputs": [],
   "source": [
    "x = SiO2_batch_pulse_energy.timeVector * 1e15 # convert to fs\n",
    "y = SiO2_batch_pulse_energy.batchVector * 1000 # convert to microns\n",
    "z = SiO2_batch_pulse_energy.Ext_x[:,255,:] # select x = 0 field data (on z-axis)\n",
    "z_transposed = np.transpose(z)  # fix arrangement of field data array\n",
    "\n",
    "# Apply Hilbert transform along every row of transposed z array and get envelope through abs -> pulse envelope for each batsched depth\n",
    "amplitude_envelope = np.abs(np.apply_along_axis(sp.signal.hilbert, 1, z_transposed))\n",
    "\n",
    "X,Y = np.meshgrid(x,y)\n",
    "Z = amplitude_envelope\n",
    "\n",
    "plt.figure(figsize=(10,5))\n",
    "plt.pcolormesh(Y,X,Z, shading=\"nearest\", cmap='magma')#, norm=matplotlib.colors.LogNorm())\n",
    "plt.xlabel(\"Propagation depth [\" + r'$\\mu$' + \"m]\")\n",
    "plt.ylabel(\"|Ex| [GV/m]\")\n",
    "#plt.ylim((0,00))\n",
    "#plt.xlim((0,100))\n",
    "plt.title('Pulse Envelope Evolution with Pulse Energy in Fused Silica')\n",
    "plt.colorbar()\n",
    "plt.savefig(\"graphs/exercise-pulse-envelope-evolution-with-pulse-energy-in-fused-silica\")\n",
    "plt.close()"
   ]
  },
  {
   "cell_type": "markdown",
   "metadata": {},
   "source": [
    "Plot pulse FWHM evolution:"
   ]
  },
  {
   "cell_type": "code",
   "execution_count": 81,
   "metadata": {},
   "outputs": [
    {
     "name": "stdout",
     "output_type": "stream",
     "text": [
      "[30.0993268  32.26371693 34.02469874 34.34589437 35.20268179 36.1582502\n",
      " 34.16302813 37.28476423 37.90598828 33.64875603 34.78466584]\n"
     ]
    }
   ],
   "source": [
    "x = SiO2_batch_pulse_energy.timeVector * 1e15 # convert to fs\n",
    "y = SiO2_batch_pulse_energy.batchVector * 1000 # convert to microns\n",
    "z = SiO2_batch_pulse_energy.Ext_x[:,255,:] # select x = 0 field data (on z-axis)\n",
    "z_transposed = np.transpose(z)  # fix arrangement of field data array\n",
    "\n",
    "# Apply Hilbert transform along every row of transposed z array and get envelope through abs -> pulse envelope for each batsched depth\n",
    "amplitude_envelope = np.abs(np.apply_along_axis(sp.signal.hilbert, 1, z_transposed))\n",
    "\n",
    "# Calculate FWHMs for each batched propagation depth (one for each row of amplitude_envelope)\n",
    "fwhms = np.zeros(len(y))\n",
    "batch_vector_iterator = np.linspace(0, len(y) -1, len(y), dtype=int)\n",
    "for i in batch_vector_iterator:\n",
    "    fwhms[i] = (lwe.fwhm(x, amplitude_envelope[i]))\n",
    "print(fwhms)\n",
    "\n",
    "plt.figure(figsize=(10,5))\n",
    "plt.plot(y, fwhms)#, norm=matplotlib.colors.LogNorm())\n",
    "plt.xlabel(\"Propagation depth [\" + r'$\\mu$' + \"m]\")\n",
    "plt.ylabel(\"FWHM [fs]\")\n",
    "plt.title('Pulse Envelope Evolution with Pulse Energy in Fused Silica')\n",
    "plt.savefig(\"graphs/exercise-pulse-fwhm-evolution-with-pulse-energy-in-fused-silica\")\n",
    "plt.close()"
   ]
  },
  {
   "cell_type": "code",
   "execution_count": null,
   "metadata": {},
   "outputs": [],
   "source": [
    "SiO2_batch_pulse_energy = lwe.load(\"LWE-results/exercise-fused-silica-1mm-100mJ-30THz-025fs-temporal-step-batch-pulse-energy-50to200mcJ-11steps.zip\")\n",
    "#print(SiO2_batch_thickness.Ext_x.shape)\n",
    "x = SiO2_batch_pulse_energy.frequencyVectorSpectrum / 1e12 # convert to THz\n",
    "print(x.shape)\n",
    "#x = SiO2_1mm_xpol.spaceVector\n",
    "y = SiO2_batch_pulse_energy.batchVector * 1e9  # convert to nJ\n",
    "print(y)\n",
    "print(y.shape)\n",
    "#print(x)\n",
    "z = SiO2_batch_pulse_energy.spectrumTotal\n",
    "z_norma = lwe.norma(z)\n",
    "print(z.shape)\n",
    "#z = np.abs(fft2(SiO2_1mm_xpol.Ext_x))\n",
    "#z_norma = lwe.norma(z)\n",
    "#z_log = 10 * np.log10(z / np.max(z))\n",
    "#y2 = SiO2_2mm_xpol.Ext_x[:,87]\n",
    "#y3 = SiO2_1mm_circpol.Ext_x[:,87]\n",
    "#y4 = Vac_1mm_xpol.Ext_x[:,87]\n",
    "#print(z.shape)\n",
    "X,Y = np.meshgrid(x,y)\n",
    "Z=z_norma\n",
    "\n",
    "plt.figure(figsize=(10,5))\n",
    "plt.pcolormesh(Y,X,Z, shading=\"nearest\", cmap='magma', norm=matplotlib.colors.LogNorm())\n",
    "plt.xlabel(\"Pulse Energy [nJ]\")\n",
    "plt.ylabel(\"Frequency [THz]\")\n",
    "#plt.ylim((0,00))\n",
    "#plt.xlim((0,100))\n",
    "plt.title('Spectral Evolution with Pulse Energy')\n",
    "plt.colorbar()\n",
    "plt.savefig(\"graphs/spectral-evolution-with-puls-energy-bigbatch\")\n",
    "plt.close()"
   ]
  },
  {
   "cell_type": "markdown",
   "metadata": {},
   "source": [
    "### Evolution of spectrum and pulse duration with propagation depth"
   ]
  },
  {
   "cell_type": "markdown",
   "metadata": {},
   "source": [
    "Load batch simulation results:"
   ]
  },
  {
   "cell_type": "code",
   "execution_count": null,
   "metadata": {},
   "outputs": [],
   "source": [
    "SiO2_batch_thickness = lwe.load(\"LWE-results/exercise-fused-silica-1mm-100mJ-30THz-025fs-temporal-step-batch-plate-thickness-0to1mm-11steps.zip\")"
   ]
  },
  {
   "cell_type": "markdown",
   "metadata": {},
   "source": [
    "Plot spectral evolution:"
   ]
  },
  {
   "cell_type": "code",
   "execution_count": null,
   "metadata": {},
   "outputs": [],
   "source": [
    "#print(SiO2_batch_thickness.Ext_x.shape)\n",
    "x = SiO2_batch_thickness.frequencyVectorSpectrum / 1e12 # convert to Thz\n",
    "#print(x.shape)\n",
    "#x = SiO2_1mm_xpol.spaceVector\n",
    "y = SiO2_batch_thickness.batchVector * 1000 # convert to microns\n",
    "print(y)\n",
    "print(y.shape)\n",
    "#print(x)\n",
    "z = SiO2_batch_thickness.spectrumTotal\n",
    "z_norma = lwe.norma(z)\n",
    "print(z.shape)\n",
    "#z = np.abs(fft2(SiO2_1mm_xpol.Ext_x))\n",
    "#z_norma = lwe.norma(z)\n",
    "#z_log = 10 * np.log10(z / np.max(z))\n",
    "#y2 = SiO2_2mm_xpol.Ext_x[:,87]\n",
    "#y3 = SiO2_1mm_circpol.Ext_x[:,87]\n",
    "#y4 = Vac_1mm_xpol.Ext_x[:,87]\n",
    "#print(z.shape)\n",
    "X,Y = np.meshgrid(x,y)\n",
    "Z=z_norma\n",
    "\n",
    "plt.figure(figsize=(10,5))\n",
    "plt.pcolormesh(Y,X,Z, shading=\"nearest\", cmap='magma', norm=matplotlib.colors.LogNorm())\n",
    "plt.xlabel(\"Propagation depth [\" + r'$\\mu$' + \"m]\")\n",
    "plt.ylabel(\"Frequency [THz]\")\n",
    "#plt.ylim((0,00))\n",
    "#plt.xlim((0,100))\n",
    "plt.title('Spectral Evolution with Propagation depth in Fused Silica')\n",
    "plt.colorbar()\n",
    "plt.savefig(\"graphs/exercise-spectral-evolution-with-propagation-depth-in-fused-silica\")\n",
    "plt.close()"
   ]
  },
  {
   "cell_type": "markdown",
   "metadata": {},
   "source": [
    "Plot pulse envelope evolution:"
   ]
  },
  {
   "cell_type": "code",
   "execution_count": 65,
   "metadata": {},
   "outputs": [],
   "source": [
    "x = SiO2_batch_thickness.timeVector * 1e15 # convert to fs\n",
    "y = SiO2_batch_thickness.batchVector * 1000 # convert to microns\n",
    "z = SiO2_batch_thickness.Ext_x[:,255,:] # select x = 0 field data (on z-axis)\n",
    "z_transposed = np.transpose(z)  # fix arrangement of field data array\n",
    "\n",
    "# Apply Hilbert transform along every row of transposed z array and get envelope through abs -> pulse envelope for each batsched depth\n",
    "amplitude_envelope = np.abs(np.apply_along_axis(sp.signal.hilbert, 1, z_transposed))\n",
    "\n",
    "X,Y = np.meshgrid(x,y)\n",
    "Z = amplitude_envelope\n",
    "\n",
    "plt.figure(figsize=(10,5))\n",
    "plt.pcolormesh(Y,X,Z, shading=\"nearest\", cmap='magma')#, norm=matplotlib.colors.LogNorm())\n",
    "plt.xlabel(\"Propagation depth [\" + r'$\\mu$' + \"m]\")\n",
    "plt.ylabel(\"|Ex| [GV/m]\")\n",
    "#plt.ylim((0,00))\n",
    "#plt.xlim((0,100))\n",
    "plt.title('Pulse Envelope Evolution with Propagation depth in Fused Silica')\n",
    "plt.colorbar()\n",
    "plt.savefig(\"graphs/exercise-pulse-envelope-evolution-with-propagation-depth-in-fused-silica\")\n",
    "plt.close()"
   ]
  },
  {
   "cell_type": "markdown",
   "metadata": {},
   "source": [
    "Plot pulse FWHM evolution:"
   ]
  },
  {
   "cell_type": "code",
   "execution_count": null,
   "metadata": {},
   "outputs": [],
   "source": [
    "x = SiO2_batch_thickness.timeVector * 1e15 # convert to fs\n",
    "y = SiO2_batch_thickness.batchVector * 1000 # convert to microns\n",
    "z = SiO2_batch_thickness.Ext_x[:,255,:] # select x = 0 field data (on z-axis)\n",
    "z_transposed = np.transpose(z)  # fix arrangement of field data array\n",
    "\n",
    "# Apply Hilbert transform along every row of transposed z array and get envelope through abs -> pulse envelope for each batsched depth\n",
    "amplitude_envelope = np.abs(np.apply_along_axis(sp.signal.hilbert, 1, z_transposed))\n",
    "\n",
    "# Calculate FWHMs for each batched propagation depth (one for each row of amplitude_envelope)\n",
    "fwhms = np.zeros(len(y))\n",
    "batch_vector_iterator = np.linspace(0, len(y) -1, len(y), dtype=int)\n",
    "for i in batch_vector_iterator:\n",
    "    fwhms[i] = (lwe.fwhm(x, amplitude_envelope[i]))\n",
    "print(fwhms)\n",
    "\n",
    "plt.figure(figsize=(10,5))\n",
    "plt.plot(y, fwhms)#, norm=matplotlib.colors.LogNorm())\n",
    "plt.xlabel(\"Propagation depth [\" + r'$\\mu$' + \"m]\")\n",
    "plt.ylabel(\"FWHM [fs]\")\n",
    "plt.title('Pulse Envelope Evolution with Propagation depth in Fused Silica')\n",
    "plt.savefig(\"graphs/exercise-pulse-fwhm-evolution-with-propagation-depth-in-fused-silica\")\n",
    "plt.close()"
   ]
  },
  {
   "cell_type": "markdown",
   "metadata": {},
   "source": [
    "### K-space representation (alpha)"
   ]
  },
  {
   "cell_type": "code",
   "execution_count": null,
   "metadata": {},
   "outputs": [],
   "source": [
    "from scipy.fft import fft2\n",
    "\n",
    "y = SiO2_1mm_xpol.frequencyVector / 1e12 # convert to THz\n",
    "x = SiO2_1mm_xpol.spaceVector\n",
    "print(x.shape)\n",
    "z = np.abs(fft2(SiO2_1mm_xpol.Ext_x))\n",
    "z_norma = lwe.norma(z)\n",
    "z_log = 10 * np.log10(z / np.max(z))\n",
    "#y2 = SiO2_2mm_xpol.Ext_x[:,87]\n",
    "#y3 = SiO2_1mm_circpol.Ext_x[:,87]\n",
    "#y4 = Vac_1mm_xpol.Ext_x[:,87]\n",
    "print(z.shape)\n",
    "X,Y = np.meshgrid(x,y)\n",
    "Z=z_norma\n",
    "\n",
    "plt.figure(figsize=(10,5))\n",
    "plt.pcolormesh(Y,X,Z, shading=\"nearest\", cmap='magma_r', norm=matplotlib.colors.LogNorm())\n",
    "plt.xlabel(\"Frequency [THz]\")\n",
    "plt.ylabel(\"Position [\" + r'$\\mu$' + \"m]\")\n",
    "plt.xlim((-2000,0))\n",
    "plt.savefig(\"graphs/output\")\n",
    "plt.colorbar()\n",
    "plt.show()\n",
    "\n"
   ]
  },
  {
   "cell_type": "markdown",
   "metadata": {},
   "source": [
    "### Electric Field Grid"
   ]
  },
  {
   "cell_type": "code",
   "execution_count": null,
   "metadata": {},
   "outputs": [],
   "source": [
    "result_electric_field_grid = lwe.load('LWE-results/fused-silica-1mm-50nJ-30THz-10000nmbeamwaist-circpol-electric-field-grid.zip')\n",
    "\n",
    "y = result_electric_field_grid.timeVector * 1e15 # convert to fs\n",
    "x = result_electric_field_grid.spaceVector * 1e6\n",
    "print(x.shape)\n",
    "z = result_electric_field_grid.Ext_x\n",
    "#z_norma = lwe.norma(z)\n",
    "#z = np.abs(fft2(SiO2_1mm_xpol.Ext_x))\n",
    "#z_norma = lwe.norma(z)\n",
    "#z_log = 10 * np.log10(z / np.max(z))\n",
    "#y2 = SiO2_2mm_xpol.Ext_x[:,87]\n",
    "#y3 = SiO2_1mm_circpol.Ext_x[:,87]\n",
    "#y4 = Vac_1mm_xpol.Ext_x[:,87]\n",
    "print(z.shape)\n",
    "X,Y = np.meshgrid(x,y)\n",
    "Z=z\n",
    "\n",
    "# custom colormap that diverges from black in the middle\n",
    "hue_neg, hue_pos = 260, 40\n",
    "custom_cmap = sns.diverging_palette(hue_neg, hue_pos, center=\"dark\", as_cmap=True)\n",
    "\n",
    "plt.figure(figsize=(10,5))\n",
    "plt.pcolormesh(Y,X,Z, shading=\"gouraud\", cmap=custom_cmap) #norm=matplotlib.colors.LogNorm()\n",
    "plt.xlabel(\"Time [fs]\")\n",
    "plt.ylabel(\"Position [\" + r'$\\mu$' + \"m]\")\n",
    "#plt.xlim((-2000,0))\n",
    "plt.title('Electric Field Grid Ex(x, y=0, t)')\n",
    "clb = plt.colorbar()\n",
    "clb.ax.set_title('Ex [GV/m]')\n",
    "plt.savefig(\"graphs/electric-field-grid\")\n",
    "plt.close()"
   ]
  },
  {
   "cell_type": "markdown",
   "metadata": {},
   "source": [
    "### Evolution of Spectrum as a function of propagation distance in the medium"
   ]
  },
  {
   "cell_type": "code",
   "execution_count": null,
   "metadata": {},
   "outputs": [],
   "source": [
    "#from scipy.fft import fft2\n",
    "\n",
    "SiO2_batch = lwe.load(\"LWE-results/exercise-fused-silica-1mm-100mJ-30THz-025fs-temporal-step-batch-plate-thickness-0to1mm-11steps.zip\")\n",
    "print(SiO2_batch.Ext_x.shape)\n",
    "x = SiO2_batch.frequencyVectorSpectrum / 1e12 # convert to THz\n",
    "print(x.shape)\n",
    "#x = SiO2_1mm_xpol.spaceVector\n",
    "y = SiO2_batch.batchVector * 1000   # convert to microns\n",
    "print(y)\n",
    "print(y.shape)\n",
    "print(x)\n",
    "z = SiO2_batch.spectrum_x\n",
    "z_norma = lwe.norma(z)\n",
    "print(z.shape)\n",
    "#z = np.abs(fft2(SiO2_1mm_xpol.Ext_x))\n",
    "#z_norma = lwe.norma(z)\n",
    "#z_log = 10 * np.log10(z / np.max(z))\n",
    "#y2 = SiO2_2mm_xpol.Ext_x[:,87]\n",
    "#y3 = SiO2_1mm_circpol.Ext_x[:,87]\n",
    "#y4 = Vac_1mm_xpol.Ext_x[:,87]\n",
    "print(z.shape)\n",
    "X,Y = np.meshgrid(x,y)\n",
    "Z=z_norma\n",
    "\n",
    "plt.figure(figsize=(10,5))\n",
    "plt.pcolormesh(Y,X,Z, shading=\"nearest\", cmap='magma', norm=matplotlib.colors.LogNorm())\n",
    "plt.xlabel(\"Position [\" + r'$\\mu$' + \"m]\")\n",
    "plt.ylabel(\"Frequency [THz]\")\n",
    "#plt.ylim((0,00))\n",
    "#plt.xlim((0,100))\n",
    "plt.title('Spectral Evolution with Propagation Depth in Fused Silica')\n",
    "plt.colorbar()\n",
    "plt.savefig(\"graphs/spectral-evolution-with-propagation-depth-bigbatch\")\n",
    "plt.close()\n"
   ]
  },
  {
   "cell_type": "markdown",
   "metadata": {},
   "source": [
    "### Evolution of Spectrum as a function of puls energy"
   ]
  },
  {
   "cell_type": "code",
   "execution_count": null,
   "metadata": {},
   "outputs": [],
   "source": [
    "SiO2_batch_pulsenery = lwe.load(\"LWE-results/fused-silica-50nJ-30THz-10000nmbeamwaist-circpol-batch-1e-8to1e-7pulsenergy-100steps.zip\")\n",
    "print(SiO2_batch_pulsenery.Ext_x.shape)\n",
    "x = SiO2_batch_pulsenery.frequencyVectorSpectrum / 1e12 # convert to THz\n",
    "print(x.shape)\n",
    "#x = SiO2_1mm_xpol.spaceVector\n",
    "y = SiO2_batch_pulsenery.batchVector * 1e9  # convert to nJ\n",
    "print(y)\n",
    "print(y.shape)\n",
    "print(x)\n",
    "z = SiO2_batch_pulsenery.spectrum_x\n",
    "z_norma = lwe.norma(z)\n",
    "print(z.shape)\n",
    "#z = np.abs(fft2(SiO2_1mm_xpol.Ext_x))\n",
    "#z_norma = lwe.norma(z)\n",
    "#z_log = 10 * np.log10(z / np.max(z))\n",
    "#y2 = SiO2_2mm_xpol.Ext_x[:,87]\n",
    "#y3 = SiO2_1mm_circpol.Ext_x[:,87]\n",
    "#y4 = Vac_1mm_xpol.Ext_x[:,87]\n",
    "print(z.shape)\n",
    "X,Y = np.meshgrid(x,y)\n",
    "Z=z_norma\n",
    "\n",
    "plt.figure(figsize=(10,5))\n",
    "plt.pcolormesh(Y,X,Z, shading=\"nearest\", cmap='magma', norm=matplotlib.colors.LogNorm())\n",
    "plt.xlabel(\"Pulse Energy [nJ]\")\n",
    "plt.ylabel(\"Frequency [THz]\")\n",
    "#plt.ylim((0,00))\n",
    "#plt.xlim((0,100))\n",
    "plt.title('Spectral Evolution with Pulse Energy')\n",
    "plt.colorbar()\n",
    "plt.savefig(\"graphs/spectral-evolution-with-puls-energy-bigbatch\")\n",
    "plt.close()"
   ]
  },
  {
   "cell_type": "markdown",
   "metadata": {},
   "source": [
    "### Pulse width Evolution"
   ]
  },
  {
   "cell_type": "code",
   "execution_count": null,
   "metadata": {},
   "outputs": [],
   "source": [
    "SiO2_batch_pulswidth = lwe.load(\"LWE-results/fused-silica-50nJ-30THz-10000nmbeamwaist-circpol-batch-0to500thickness-120steps.zip\")\n",
    "print(SiO2_batch_pulswidth.Ext_x.shape)\n",
    "print(SiO2_batch_pulswidth.Ext_x[:,87,:].shape)\n",
    "temp = []\n",
    "for n in range(len(SiO2_batch_pulswidth.batchVector)):\n",
    "    temp.append(lwe.fwhm(SiO2_batch_pulswidth.timeVector, np.abs(SiO2_batch_pulswidth.Ext_x[:,87,n])))\n",
    "    print(np.abs(SiO2_batch_pulswidth.Ext_x[:,87,n]))\n",
    "  #np.append(pulswidths, lwe.fwhm(SiO2_batch_pulswidth.timeVector, SiO2_batch_pulswidth.Ext_x[:,87,n]))\n",
    "temp = np.array(temp)\n",
    "print(SiO2_batch_pulswidth.Ext_x[:,87,1].shape)\n",
    "print(temp.shape)\n",
    "#pulswidths = lwe.fwhm(SiO2_batch_pulswidth.timeVector, temp) #SiO2_batch_pulswidth.Ext_x[:,87,:])\n",
    "\n",
    "#print(pulswidths.shape)\n",
    "#print(lwe.fwhm(SiO2_batch_pulswidth.timeVector, SiO2_batch_pulswidth.Ext_x[:,87,1]))\n",
    "x = SiO2_batch_pulswidth.batchVector\n",
    "print(len(SiO2_batch_pulswidth.batchVector))\n",
    "#print(temp)\n",
    "plt.title('Evolution of Pulse Width with Propagation Depth')\n",
    "plt.plot(SiO2_batch_pulswidth.timeVector,np.abs(SiO2_batch_pulswidth.Ext_x[:,87,1]) ) #(x,temp,'red')\n",
    "plt.show()"
   ]
  },
  {
   "cell_type": "markdown",
   "metadata": {},
   "source": [
    "### Bandwidth Evolution"
   ]
  },
  {
   "cell_type": "code",
   "execution_count": null,
   "metadata": {},
   "outputs": [],
   "source": [
    "SiO2_batch_bandwidth = lwe.load(\"LWE-results/fused-silica-50nJ-30THz-10000nmbeamwaist-circpol-batch-1e-8to1e-7pulsenergy-100steps.zip\")\n",
    "#print(SiO2_batch_pulswidth.Ext_x.shape)\n",
    "#print(SiO2_batch_pulswidth.Ext_x[:,87,:].shape)\n",
    "temp = []\n",
    "for n in range(len(SiO2_batch_bandwidth.batchVector)):\n",
    "    temp.append(lwe.fwhm(SiO2_batch_bandwidth.frequencyVectorSpectrum, SiO2_batch_bandwidth.spectrumTotal[n,:]))\n",
    "  #np.append(pulswidths, lwe.fwhm(SiO2_batch_pulswidth.timeVector, SiO2_batch_pulswidth.Ext_x[:,87,n]))\n",
    "temp = np.array(temp) / 1e12 # conversion to THz\n",
    "#print(SiO2_batch_pulswidth.Ext_x[:,87,1].shape)\n",
    "#print(temp.shape)\n",
    "#pulswidths = lwe.fwhm(SiO2_batch_pulswidth.timeVector, temp) #SiO2_batch_pulswidth.Ext_x[:,87,:])\n",
    "print(SiO2_batch_bandwidth.spectrumTotal.shape)\n",
    "print(temp)\n",
    "x = SiO2_batch_bandwidth.batchVector * 1e6  # conversion to microns\n",
    "#y = lwe.fwhm(x, SiO2_batch_bandwidth.spectrumTotal[:])\n",
    "#print(pulswidths.shape)\n",
    "#print(lwe.fwhm(SiO2_batch_pulswidth.timeVector, SiO2_batch_pulswidth.Ext_x[:,87,1]))\n",
    "#print(len(SiO2_batch_pulswidth.batchVector))\n",
    "#print(temp)\n",
    "plt.figure(figsize=(10,5))\n",
    "plt.plot(x,temp,'red')\n",
    "plt.xlabel('Pulse Energy [nJ]')#\"Position [\" + r'$\\mu$' + \"m]\")\n",
    "plt.ylabel(\"FWHM [THz]\")\n",
    "plt.title('Bandwidth Evolution with Pulse Energy in Fused Silica')\n",
    "plt.savefig('graphs/bandwidth-evolution-with-pulse-energy-fused-silica')\n",
    "plt.show()"
   ]
  },
  {
   "cell_type": "code",
   "execution_count": null,
   "metadata": {},
   "outputs": [],
   "source": [
    "n = 1.4504                                          # refractive index for fused silica\n",
    "x = results.spaceVector\n",
    "y = results.frequencyVectorSpectrum  # wavelength values for x-axis\n",
    "#y = np.linspace(0,(sp.constants.c * n / results.frequencyVector)[161], num=1024)    #reverse data\n",
    "z = (results.Ext_x**2)[:513] #lwe.normaM(results.Ext_x)\n",
    "z_normalized = lwe.norma(z)\n",
    "\n",
    "y[0] = y[1]                                     # fix 0 value for y[0]\n",
    "print(x.shape)\n",
    "print(y.shape)\n",
    "print(z.shape)\n",
    "print(sp.constants.c)\n",
    "#print(results.frequencyVector[:161])\n",
    "print(y[:161])\n",
    "#print(y)\n",
    "\n",
    "X,Y = np.meshgrid(x,y)\n",
    "Z=z_normalized\n",
    "\n",
    "#plt.xlim(-10, 10)\n",
    "\n",
    "plt.figure(figsize=(5,10))\n",
    "plt.pcolormesh(X,Y,Z, shading='flat', norm=matplotlib.colors.LogNorm()) #shading='gouraud'\n",
    "plt.xlabel(\"position x [m]\")\n",
    "plt.ylabel(\"time t [s]\")\n",
    "#plt.yscale('log', base=10)\n",
    "plt.savefig(\"graphs/output\")\n",
    "plt.show()"
   ]
  },
  {
   "cell_type": "code",
   "execution_count": null,
   "metadata": {},
   "outputs": [],
   "source": [
    "n = 1.4504\n",
    "x =  results.frequencyVectorSpectrum / 1e12#[::-1] #sp.constants.c * n/\n",
    "y1 = results.spectrum_x\n",
    "y2 = results.spectrum_x\n",
    "x[0] = x[1]\n",
    "print(x.shape)\n",
    "print(y2)\n",
    "print(y2.shape)\n",
    "\n",
    "fig, ax1 = plt.subplots()\n",
    "\n",
    "color1 = 'tab:red'\n",
    "ax1.set_xlabel('Frequency [Thz]')\n",
    "ax1.set_ylabel('Spectrum linear [J/THz]', color=color1)\n",
    "ax1.plot(x, y1, color=color1)\n",
    "ax1.tick_params(axis='y', labelcolor=color1)\n",
    "ax1.set_xlim((0,1000))\n",
    "\n",
    "ax2 = ax1.twinx()  # instantiate a second axes that shares the same x-axis\n",
    "\n",
    "color2 = 'tab:blue'\n",
    "ax2.set_ylabel('Spectrum log [dB]', color=color2)  # we already handled the x-label with ax1\n",
    "ax2.set_yscale('log')\n",
    "ax2.plot(x, y2, color=color2)\n",
    "ax2.tick_params(axis='y', labelcolor=color2)\n",
    "\n",
    "fig.tight_layout()  # otherwise the right y-label is slightly clipped\n",
    "plt.show()\n",
    "\n",
    "\"\"\"\n",
    "plt.xlim((0,1000000000000000))\n",
    "plt.yscale('log')\n",
    "plt.ylabel('log')\n",
    "\n",
    "plt.plot(x,y)\n",
    "plt.show()\"\"\""
   ]
  }
 ],
 "metadata": {
  "kernelspec": {
   "display_name": "Python 3 (ipykernel)",
   "language": "python",
   "name": "python3"
  },
  "language_info": {
   "codemirror_mode": {
    "name": "ipython",
    "version": 3
   },
   "file_extension": ".py",
   "mimetype": "text/x-python",
   "name": "python",
   "nbconvert_exporter": "python",
   "pygments_lexer": "ipython3",
   "version": "3.11.1"
  }
 },
 "nbformat": 4,
 "nbformat_minor": 4
}
