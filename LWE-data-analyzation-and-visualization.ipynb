{
 "cells": [
  {
   "cell_type": "markdown",
   "metadata": {},
   "source": [
    "# LightwaveExplorer Data Analyzation & Visualization\n",
    "This jupyter notebook gives a few data "
   ]
  },
  {
   "cell_type": "code",
   "execution_count": 2,
   "metadata": {},
   "outputs": [],
   "source": [
    "#Import Python modules\n",
    "import LightwaveExplorer as lwe\n",
    "import numpy as np\n",
    "import pandas as pd\n",
    "import seaborn as sns\n",
    "import ipywidgets as widgets\n",
    "import matplotlib.pyplot as plt\n",
    "import scipy as sp\n",
    "import matplotlib\n",
    "from matplotlib_inline.backend_inline import set_matplotlib_formats\n",
    "set_matplotlib_formats('pdf', 'svg')\n",
    "from matplotlib import rcParams\n",
    "rcParams['font.family'] = 'Arial'\n",
    "rcParams['font.size'] = 14"
   ]
  },
  {
   "cell_type": "markdown",
   "metadata": {},
   "source": [
    "### Loading Simulation Data and Structure Analyzation"
   ]
  },
  {
   "cell_type": "code",
   "execution_count": 3,
   "metadata": {
    "scrolled": true
   },
   "outputs": [],
   "source": [
    "# Insert the path to your simulation results here\n",
    "SiO2_1mm_xpol = lwe.load(\"LWE-results/fused-silica-1mm-50nJ-30THz-10000nmbeamwaist-xpol.zip\")\n",
    "SiO2_2mm_xpol = lwe.load(\"LWE-results/fused-silica-2mm-50nJ-30THz-10000nmbeamwaist-xpol.zip\")\n",
    "SiO2_1mm_circpol = lwe.load(\"LWE-results/fused-silica-1mm-50nJ-30THz-10000nmbeamwaist-circpol.zip\")\n",
    "Vac_1mm_xpol = lwe.load(\"LWE-results/vacuum-1mm-50nJ-30THz-10000nmbeamwaist-xpol.zip\")"
   ]
  },
  {
   "cell_type": "markdown",
   "metadata": {},
   "source": [
    "### Refractive Index"
   ]
  },
  {
   "cell_type": "code",
   "execution_count": null,
   "metadata": {},
   "outputs": [],
   "source": [
    "#first we'll make a wavelength grid to work with\n",
    "l = np.linspace(0.3,3,1024)\n",
    "\n",
    "#next we'll need Sellmeier coefficients, these are for barium fluoride, H. H. Li., J. Phys. Chem. Ref. Data 9, 161-289 (1980)\n",
    "a = lwe.getSellmeierFromRII(\"https://refractiveindex.info/database/data-nk/main/SiO2/Malitson.yml\")\n",
    "b = lwe.getSellmeierFromRII(\"https://refractiveindex.info/database/data-nk/main/BaF2/Malitson.yml\")\n",
    "\n",
    "#we can get the refractive index for the wavelengths we put in the grid by calling the sellmeier() function\n",
    "#from the lightwaveExplorer module, with the equationType set to 0.\n",
    "n = lwe.sellmeier(l, a, 0)\n",
    "n2 = lwe.sellmeier(l, b, 0)\n",
    "\n",
    "#let's make it so we can adjust the resonances of the oscillators and see how it affects the index\n",
    "\n",
    "fig,ax = plt.subplots(1,1, figsize=(10,8))\n",
    "ax.plot(l,np.real(n),label=\"SiO2\",color=\"blue\")\n",
    "ax.plot(l,np.real(n2), label = \"BaF2\", color = \"red\")\n",
    "ax.set_xlabel(\"Wavelength (\" + r'$\\mu$' + \"m)\")\n",
    "ax.set_ylabel(\"Refractive index n\")\n",
    "plt.title(\"Refractive index of different materials\")\n",
    "ax.legend()\n",
    "plt.savefig(\"graphs/refractive-index-SiO2-BaF2\")\n",
    "plt.show()"
   ]
  },
  {
   "cell_type": "markdown",
   "metadata": {},
   "source": [
    "### On-Axis Electric Field"
   ]
  },
  {
   "cell_type": "code",
   "execution_count": null,
   "metadata": {},
   "outputs": [],
   "source": [
    "x = SiO2_1mm_xpol.timeVector * 1e15  # convert to fs\n",
    "y1 = SiO2_1mm_xpol.Ext_x[:,87]       # select on-axis column\n",
    "y2 = SiO2_2mm_xpol.Ext_x[:,87]\n",
    "y3 = SiO2_1mm_circpol.Ext_x[:,87]\n",
    "y4 = Vac_1mm_xpol.Ext_x[:,87]\n",
    "\n",
    "print(x.shape)\n",
    "print(y1.shape)\n",
    "# FWHM's\n",
    "print(lwe.fwhm(x, y1))\n",
    "print(lwe.fwhm(x, y2))\n",
    "print(lwe.fwhm(x, y4))\n",
    "\n",
    "plt.figure(figsize=(10, 8))\n",
    "plt.plot(x, y4, 'green', label='1mm Vacuum') #, FWHM=4.39fs\n",
    "plt.plot(x, y1, 'red', label='1mm SiO2') #, FWHM=7.56fs\n",
    "plt.plot(x, y2, 'blue', label='2mm SiO2') #, FWHM=19.81fs\n",
    "plt.xlabel('Time [fs]')\n",
    "plt.ylabel('Ex [GV/m]')\n",
    "plt.title('On-Axis Electric Field in x-Polarization')\n",
    "plt.legend()\n",
    "plt.savefig('graphs/on-axis-electric-field-x-pol')\n",
    "plt.show()"
   ]
  },
  {
   "cell_type": "markdown",
   "metadata": {},
   "source": [
    "### Energy Spectrum"
   ]
  },
  {
   "cell_type": "code",
   "execution_count": null,
   "metadata": {},
   "outputs": [],
   "source": [
    "#x = SiO2_1mm_xpol.frequencyVectorSpectrum / 1e12 # convert to THz\n",
    "data = lwe.load(\"LWE-results/fused-silica-1mm-50nJ-30THz-10000nmbeamwaist-circpol.zip\")\n",
    "data2 = lwe.load(\"LWE-results/vacuum-1mm-50nJ-30THz-10000nmbeamwaist-circpol.zip\")\n",
    "x = data.frequencyVectorSpectrum /1e12\n",
    "y1 = data.spectrum_x\n",
    "y2 = data2.spectrum_x\n",
    "#y2 = SiO2_2mm_xpol.Ext_x[:,87]\n",
    "#y3 = SiO2_1mm_circpol.Ext_x[:,87]\n",
    "#y4 = Vac_1mm_xpol.Ext_x[:,87]\n",
    "print(y1.shape)\n",
    "fig, ax1 = plt.subplots(figsize=(10,8))\n",
    "\n",
    "color1 = 'tab:red'\n",
    "ax1.set_xlabel('Frequency [Thz]')\n",
    "ax1.set_ylabel('Sx linear [J/THz]', color=color1)\n",
    "ax1.plot(x, y1, color=color1, label='1mm Fused Silica linear')\n",
    "ax1.tick_params(axis='y', labelcolor=color1)\n",
    "ax1.set_xlim((0,1000))\n",
    "plt.legend(loc=1)\n",
    "ax2 = ax1.twinx()  # instantiate a second axes that shares the same x-axis\n",
    "\n",
    "color2 = 'tab:blue'\n",
    "#color3 = 'tab:lightblue'\n",
    "ax2.set_ylabel('Sx log [J/THz]', color=color2)\n",
    "ax2.set_yscale('log')\n",
    "ax2.plot(x, y1, color='#0406b0', label='1mm Fused Silica log')\n",
    "ax2.plot(x, y2, color='#42bff5', label='1mm Vacuum log')\n",
    "ax2.tick_params(axis='y', labelcolor=color2)\n",
    "fig.legend(loc=\"upper right\", bbox_to_anchor=(1,1), bbox_transform=ax1.transAxes)\n",
    "\n",
    "#plt.legend()#plt.legend(ax1.plot(x, y1, color=color1, label='1mm Fused Silica linear')+ax2.plot(x, y1, color='#0406b0', label='1mm Fused Silica log'), [ax1.plot(x, y1, color=color1, label='1mm Fused Silica linear').get_label(), ax2.plot(x, y1, color='#0406b0', label='1mm Fused Silica log').get_label()])\n",
    "#fig.tight_layout()  # otherwise the right y-label is slightly clipped\n",
    "plt.title('Energy Spectrum in x-Polarization after 1mm of Fused Silica')\n",
    "plt.savefig('graphs/energy-spectrum-after-1mm-fused-silica')\n",
    "plt.show()"
   ]
  },
  {
   "cell_type": "code",
   "execution_count": null,
   "metadata": {},
   "outputs": [],
   "source": [
    "from scipy.fft import fft2\n",
    "\n",
    "y = SiO2_1mm_xpol.frequencyVector / 1e12 # convert to THz\n",
    "x = SiO2_1mm_xpol.spaceVector\n",
    "print(x.shape)\n",
    "z = np.abs(fft2(SiO2_1mm_xpol.Ext_x))\n",
    "z_norma = lwe.norma(z)\n",
    "z_log = 10 * np.log10(z / np.max(z))\n",
    "#y2 = SiO2_2mm_xpol.Ext_x[:,87]\n",
    "#y3 = SiO2_1mm_circpol.Ext_x[:,87]\n",
    "#y4 = Vac_1mm_xpol.Ext_x[:,87]\n",
    "print(z.shape)\n",
    "X,Y = np.meshgrid(x,y)\n",
    "Z=z_norma\n",
    "\n",
    "plt.figure(figsize=(10,5))\n",
    "plt.pcolormesh(Y,X,Z, shading=\"nearest\", cmap='magma_r', norm=matplotlib.colors.LogNorm())\n",
    "plt.xlabel(\"Frequency [THz]\")\n",
    "plt.ylabel(\"Position [\" + r'$\\mu$' + \"m]\")\n",
    "plt.xlim((-2000,0))\n",
    "plt.savefig(\"graphs/output\")\n",
    "plt.colorbar()\n",
    "plt.show()\n",
    "\n"
   ]
  },
  {
   "cell_type": "markdown",
   "metadata": {},
   "source": [
    "### Electric Field Grid"
   ]
  },
  {
   "cell_type": "code",
   "execution_count": null,
   "metadata": {},
   "outputs": [],
   "source": [
    "result_electric_field_grid = lwe.load('LWE-results/fused-silica-1mm-50nJ-30THz-10000nmbeamwaist-circpol-electric-field-grid.zip')\n",
    "\n",
    "y = result_electric_field_grid.timeVector * 1e15 # convert to fs\n",
    "x = result_electric_field_grid.spaceVector * 1e6\n",
    "print(x.shape)\n",
    "z = result_electric_field_grid.Ext_x\n",
    "#z_norma = lwe.norma(z)\n",
    "#z = np.abs(fft2(SiO2_1mm_xpol.Ext_x))\n",
    "#z_norma = lwe.norma(z)\n",
    "#z_log = 10 * np.log10(z / np.max(z))\n",
    "#y2 = SiO2_2mm_xpol.Ext_x[:,87]\n",
    "#y3 = SiO2_1mm_circpol.Ext_x[:,87]\n",
    "#y4 = Vac_1mm_xpol.Ext_x[:,87]\n",
    "print(z.shape)\n",
    "X,Y = np.meshgrid(x,y)\n",
    "Z=z\n",
    "\n",
    "# custom colormap that diverges from black in the middle\n",
    "hue_neg, hue_pos = 260, 40\n",
    "custom_cmap = sns.diverging_palette(hue_neg, hue_pos, center=\"dark\", as_cmap=True)\n",
    "\n",
    "plt.figure(figsize=(10,5))\n",
    "plt.pcolormesh(Y,X,Z, shading=\"gouraud\", cmap=custom_cmap) #norm=matplotlib.colors.LogNorm()\n",
    "plt.xlabel(\"Time [fs]\")\n",
    "plt.ylabel(\"Position [\" + r'$\\mu$' + \"m]\")\n",
    "#plt.xlim((-2000,0))\n",
    "plt.title('Electric Field Grid Ex(x, y=0, t)')\n",
    "clb = plt.colorbar()\n",
    "clb.ax.set_title('Ex [GV/m]')\n",
    "plt.savefig(\"graphs/electric-field-grid\")\n",
    "plt.close()"
   ]
  },
  {
   "cell_type": "markdown",
   "metadata": {},
   "source": [
    "### Evolution of Spectrum as a function of propagation distance in the medium"
   ]
  },
  {
   "cell_type": "code",
   "execution_count": null,
   "metadata": {},
   "outputs": [],
   "source": [
    "#from scipy.fft import fft2\n",
    "\n",
    "SiO2_batch = lwe.load(\"LWE-results/fused-silica-50nJ-30THz-10000nmbeamwaist-circpol-batch-0to500thickness-120steps.zip\")\n",
    "print(SiO2_batch.Ext_x.shape)\n",
    "x = SiO2_batch.frequencyVectorSpectrum / 1e12 # convert to THz\n",
    "print(x.shape)\n",
    "#x = SiO2_1mm_xpol.spaceVector\n",
    "y = SiO2_batch.batchVector * 1000   # convert to microns\n",
    "print(y)\n",
    "print(y.shape)\n",
    "print(x)\n",
    "z = SiO2_batch.spectrum_x\n",
    "z_norma = lwe.norma(z)\n",
    "print(z.shape)\n",
    "#z = np.abs(fft2(SiO2_1mm_xpol.Ext_x))\n",
    "#z_norma = lwe.norma(z)\n",
    "#z_log = 10 * np.log10(z / np.max(z))\n",
    "#y2 = SiO2_2mm_xpol.Ext_x[:,87]\n",
    "#y3 = SiO2_1mm_circpol.Ext_x[:,87]\n",
    "#y4 = Vac_1mm_xpol.Ext_x[:,87]\n",
    "print(z.shape)\n",
    "X,Y = np.meshgrid(x,y)\n",
    "Z=z_norma\n",
    "\n",
    "plt.figure(figsize=(10,5))\n",
    "plt.pcolormesh(Y,X,Z, shading=\"nearest\", cmap='magma', norm=matplotlib.colors.LogNorm())\n",
    "plt.xlabel(\"Position [\" + r'$\\mu$' + \"m]\")\n",
    "plt.ylabel(\"Frequency [THz]\")\n",
    "#plt.ylim((0,00))\n",
    "#plt.xlim((0,100))\n",
    "plt.title('Spectral Evolution with Propagation Depth in Fused Silica')\n",
    "plt.colorbar()\n",
    "plt.savefig(\"graphs/spectral-evolution-with-propagation-depth-bigbatch\")\n",
    "plt.close()\n"
   ]
  },
  {
   "cell_type": "markdown",
   "metadata": {},
   "source": [
    "### Evolution of Spectrum as a function of puls energy"
   ]
  },
  {
   "cell_type": "code",
   "execution_count": null,
   "metadata": {},
   "outputs": [],
   "source": [
    "SiO2_batch_pulsenery = lwe.load(\"LWE-results/fused-silica-50nJ-30THz-10000nmbeamwaist-circpol-batch-1e-8to1e-7pulsenergy-100steps.zip\")\n",
    "print(SiO2_batch_pulsenery.Ext_x.shape)\n",
    "x = SiO2_batch_pulsenery.frequencyVectorSpectrum / 1e12 # convert to THz\n",
    "print(x.shape)\n",
    "#x = SiO2_1mm_xpol.spaceVector\n",
    "y = SiO2_batch_pulsenery.batchVector * 1e9  # convert to nJ\n",
    "print(y)\n",
    "print(y.shape)\n",
    "print(x)\n",
    "z = SiO2_batch_pulsenery.spectrum_x\n",
    "z_norma = lwe.norma(z)\n",
    "print(z.shape)\n",
    "#z = np.abs(fft2(SiO2_1mm_xpol.Ext_x))\n",
    "#z_norma = lwe.norma(z)\n",
    "#z_log = 10 * np.log10(z / np.max(z))\n",
    "#y2 = SiO2_2mm_xpol.Ext_x[:,87]\n",
    "#y3 = SiO2_1mm_circpol.Ext_x[:,87]\n",
    "#y4 = Vac_1mm_xpol.Ext_x[:,87]\n",
    "print(z.shape)\n",
    "X,Y = np.meshgrid(x,y)\n",
    "Z=z_norma\n",
    "\n",
    "plt.figure(figsize=(10,5))\n",
    "plt.pcolormesh(Y,X,Z, shading=\"nearest\", cmap='magma', norm=matplotlib.colors.LogNorm())\n",
    "plt.xlabel(\"Pulse Energy [nJ]\")\n",
    "plt.ylabel(\"Frequency [THz]\")\n",
    "#plt.ylim((0,00))\n",
    "#plt.xlim((0,100))\n",
    "plt.title('Spectral Evolution with Pulse Energy')\n",
    "plt.colorbar()\n",
    "plt.savefig(\"graphs/spectral-evolution-with-puls-energy-bigbatch\")\n",
    "plt.close()"
   ]
  },
  {
   "cell_type": "markdown",
   "metadata": {},
   "source": [
    "### Pulse width Evolution"
   ]
  },
  {
   "cell_type": "code",
   "execution_count": null,
   "metadata": {},
   "outputs": [],
   "source": [
    "SiO2_batch_pulswidth = lwe.load(\"LWE-results/fused-silica-50nJ-30THz-10000nmbeamwaist-circpol-batch-0to500thickness-120steps.zip\")\n",
    "print(SiO2_batch_pulswidth.Ext_x.shape)\n",
    "print(SiO2_batch_pulswidth.Ext_x[:,87,:].shape)\n",
    "temp = []\n",
    "for n in range(len(SiO2_batch_pulswidth.batchVector)):\n",
    "    temp.append(lwe.fwhm(SiO2_batch_pulswidth.timeVector, np.abs(SiO2_batch_pulswidth.Ext_x[:,87,n])))\n",
    "    print(np.abs(SiO2_batch_pulswidth.Ext_x[:,87,n]))\n",
    "  #np.append(pulswidths, lwe.fwhm(SiO2_batch_pulswidth.timeVector, SiO2_batch_pulswidth.Ext_x[:,87,n]))\n",
    "temp = np.array(temp)\n",
    "print(SiO2_batch_pulswidth.Ext_x[:,87,1].shape)\n",
    "print(temp.shape)\n",
    "#pulswidths = lwe.fwhm(SiO2_batch_pulswidth.timeVector, temp) #SiO2_batch_pulswidth.Ext_x[:,87,:])\n",
    "\n",
    "#print(pulswidths.shape)\n",
    "#print(lwe.fwhm(SiO2_batch_pulswidth.timeVector, SiO2_batch_pulswidth.Ext_x[:,87,1]))\n",
    "x = SiO2_batch_pulswidth.batchVector\n",
    "print(len(SiO2_batch_pulswidth.batchVector))\n",
    "#print(temp)\n",
    "plt.title('Evolution of Pulse Width with Propagation Depth')\n",
    "plt.plot(SiO2_batch_pulswidth.timeVector,np.abs(SiO2_batch_pulswidth.Ext_x[:,87,1]) ) #(x,temp,'red')\n",
    "plt.show()"
   ]
  },
  {
   "cell_type": "markdown",
   "metadata": {},
   "source": [
    "### Bandwidth Evolution"
   ]
  },
  {
   "cell_type": "code",
   "execution_count": null,
   "metadata": {},
   "outputs": [],
   "source": [
    "SiO2_batch_bandwidth = lwe.load(\"LWE-results/fused-silica-50nJ-30THz-10000nmbeamwaist-circpol-batch-1e-8to1e-7pulsenergy-100steps.zip\")\n",
    "#print(SiO2_batch_pulswidth.Ext_x.shape)\n",
    "#print(SiO2_batch_pulswidth.Ext_x[:,87,:].shape)\n",
    "temp = []\n",
    "for n in range(len(SiO2_batch_bandwidth.batchVector)):\n",
    "    temp.append(lwe.fwhm(SiO2_batch_bandwidth.frequencyVectorSpectrum, SiO2_batch_bandwidth.spectrumTotal[n,:]))\n",
    "  #np.append(pulswidths, lwe.fwhm(SiO2_batch_pulswidth.timeVector, SiO2_batch_pulswidth.Ext_x[:,87,n]))\n",
    "temp = np.array(temp) / 1e12 # conversion to THz\n",
    "#print(SiO2_batch_pulswidth.Ext_x[:,87,1].shape)\n",
    "#print(temp.shape)\n",
    "#pulswidths = lwe.fwhm(SiO2_batch_pulswidth.timeVector, temp) #SiO2_batch_pulswidth.Ext_x[:,87,:])\n",
    "print(SiO2_batch_bandwidth.spectrumTotal.shape)\n",
    "print(temp)\n",
    "x = SiO2_batch_bandwidth.batchVector * 1e6  # conversion to microns\n",
    "#y = lwe.fwhm(x, SiO2_batch_bandwidth.spectrumTotal[:])\n",
    "#print(pulswidths.shape)\n",
    "#print(lwe.fwhm(SiO2_batch_pulswidth.timeVector, SiO2_batch_pulswidth.Ext_x[:,87,1]))\n",
    "#print(len(SiO2_batch_pulswidth.batchVector))\n",
    "#print(temp)\n",
    "plt.figure(figsize=(10,5))\n",
    "plt.plot(x,temp,'red')\n",
    "plt.xlabel('Pulse Energy [nJ]')#\"Position [\" + r'$\\mu$' + \"m]\")\n",
    "plt.ylabel(\"FWHM [THz]\")\n",
    "plt.title('Bandwidth Evolution with Pulse Energy in Fused Silica')\n",
    "plt.savefig('graphs/bandwidth-evolution-with-pulse-energy-fused-silica')\n",
    "plt.show()"
   ]
  },
  {
   "cell_type": "code",
   "execution_count": null,
   "metadata": {},
   "outputs": [],
   "source": [
    "n = 1.4504                                          # refractive index for fused silica\n",
    "x = results.spaceVector\n",
    "y = results.frequencyVectorSpectrum  # wavelength values for x-axis\n",
    "#y = np.linspace(0,(sp.constants.c * n / results.frequencyVector)[161], num=1024)    #reverse data\n",
    "z = (results.Ext_x**2)[:513] #lwe.normaM(results.Ext_x)\n",
    "z_normalized = lwe.norma(z)\n",
    "\n",
    "y[0] = y[1]                                     # fix 0 value for y[0]\n",
    "print(x.shape)\n",
    "print(y.shape)\n",
    "print(z.shape)\n",
    "print(sp.constants.c)\n",
    "#print(results.frequencyVector[:161])\n",
    "print(y[:161])\n",
    "#print(y)\n",
    "\n",
    "X,Y = np.meshgrid(x,y)\n",
    "Z=z_normalized\n",
    "\n",
    "#plt.xlim(-10, 10)\n",
    "\n",
    "plt.figure(figsize=(5,10))\n",
    "plt.pcolormesh(X,Y,Z, shading='flat', norm=matplotlib.colors.LogNorm()) #shading='gouraud'\n",
    "plt.xlabel(\"position x [m]\")\n",
    "plt.ylabel(\"time t [s]\")\n",
    "#plt.yscale('log', base=10)\n",
    "plt.savefig(\"graphs/output\")\n",
    "plt.show()"
   ]
  },
  {
   "cell_type": "code",
   "execution_count": null,
   "metadata": {},
   "outputs": [],
   "source": [
    "n = 1.4504\n",
    "x =  results.frequencyVectorSpectrum / 1e12#[::-1] #sp.constants.c * n/\n",
    "y1 = results.spectrum_x\n",
    "y2 = results.spectrum_x\n",
    "x[0] = x[1]\n",
    "print(x.shape)\n",
    "print(y2)\n",
    "print(y2.shape)\n",
    "\n",
    "fig, ax1 = plt.subplots()\n",
    "\n",
    "color1 = 'tab:red'\n",
    "ax1.set_xlabel('Frequency [Thz]')\n",
    "ax1.set_ylabel('Spectrum linear [J/THz]', color=color1)\n",
    "ax1.plot(x, y1, color=color1)\n",
    "ax1.tick_params(axis='y', labelcolor=color1)\n",
    "ax1.set_xlim((0,1000))\n",
    "\n",
    "ax2 = ax1.twinx()  # instantiate a second axes that shares the same x-axis\n",
    "\n",
    "color2 = 'tab:blue'\n",
    "ax2.set_ylabel('Spectrum log [dB]', color=color2)  # we already handled the x-label with ax1\n",
    "ax2.set_yscale('log')\n",
    "ax2.plot(x, y2, color=color2)\n",
    "ax2.tick_params(axis='y', labelcolor=color2)\n",
    "\n",
    "fig.tight_layout()  # otherwise the right y-label is slightly clipped\n",
    "plt.show()\n",
    "\n",
    "\"\"\"\n",
    "plt.xlim((0,1000000000000000))\n",
    "plt.yscale('log')\n",
    "plt.ylabel('log')\n",
    "\n",
    "plt.plot(x,y)\n",
    "plt.show()\"\"\""
   ]
  }
 ],
 "metadata": {
  "kernelspec": {
   "display_name": "Python 3 (ipykernel)",
   "language": "python",
   "name": "python3"
  },
  "language_info": {
   "codemirror_mode": {
    "name": "ipython",
    "version": 3
   },
   "file_extension": ".py",
   "mimetype": "text/x-python",
   "name": "python",
   "nbconvert_exporter": "python",
   "pygments_lexer": "ipython3",
   "version": "3.12.2"
  }
 },
 "nbformat": 4,
 "nbformat_minor": 4
}
